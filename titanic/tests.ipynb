{
 "cells": [
  {
   "cell_type": "code",
   "execution_count": 5,
   "metadata": {},
   "outputs": [
    {
     "name": "stdout",
     "output_type": "stream",
     "text": [
      "  letter  value\n",
      "0      A      1\n",
      "1      B      2\n",
      "2      C      3\n",
      "3      D      4\n"
     ]
    }
   ],
   "source": [
    "import pandas as pd\n",
    "\n",
    "train = pd.DataFrame({\"letter\":[\"A\", \"B\", \"C\", \"D\"], \"value\": [1, 2, 3, 4]})\n",
    "\n",
    "print(train)\n",
    "\n"
   ]
  },
  {
   "cell_type": "code",
   "execution_count": 7,
   "metadata": {},
   "outputs": [
    {
     "name": "stdout",
     "output_type": "stream",
     "text": [
      "  letter\n",
      "0      A\n",
      "1      B\n",
      "2      C\n",
      "3      D\n"
     ]
    }
   ],
   "source": [
    "X_train = train.drop([\"value\"], axis=1)\n",
    "\n",
    "print(X_train)"
   ]
  },
  {
   "cell_type": "code",
   "execution_count": 10,
   "metadata": {},
   "outputs": [
    {
     "name": "stdout",
     "output_type": "stream",
     "text": [
      "   letter_A  letter_B  letter_C  letter_D\n",
      "0         1         0         0         0\n",
      "1         0         1         0         0\n",
      "2         0         0         1         0\n",
      "3         0         0         0         1\n"
     ]
    }
   ],
   "source": [
    "X_train = pd.get_dummies(X_train)\n",
    "\n",
    "print(X_train)"
   ]
  },
  {
   "cell_type": "code",
   "execution_count": null,
   "metadata": {
    "collapsed": true
   },
   "outputs": [],
   "source": []
  }
 ],
 "metadata": {
  "kernelspec": {
   "display_name": "Python 3",
   "language": "python",
   "name": "python3"
  },
  "language_info": {
   "codemirror_mode": {
    "name": "ipython",
    "version": 3
   },
   "file_extension": ".py",
   "mimetype": "text/x-python",
   "name": "python",
   "nbconvert_exporter": "python",
   "pygments_lexer": "ipython3",
   "version": "3.6.1"
  }
 },
 "nbformat": 4,
 "nbformat_minor": 2
}
